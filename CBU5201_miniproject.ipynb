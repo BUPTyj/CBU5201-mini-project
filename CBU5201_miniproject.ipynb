{
 "cells": [
  {
   "metadata": {},
   "cell_type": "markdown",
   "source": "# Judging the authenticity of audio stories - based on multi method fusion",
   "id": "da8911b826c89ec1"
  },
  {
   "metadata": {},
   "cell_type": "markdown",
   "source": [
    "## 1 Author\n",
    "**Student Name**:  Yijie Ma\n",
    "\n",
    "**Student ID**:  221169472"
   ],
   "id": "789c0a67425e1f63"
  },
  {
   "metadata": {},
   "cell_type": "markdown",
   "source": [
    "## 2 Problem formulation\n",
    "\n",
    "The goal of this project is to address a machine learning problem, namely predicting whether a narrated story is real or fictional. Specifically, we need to build a machine learning model where the input is a 3-5 minute audio recording, and the output is the category of the story: True Story or Deceptive Story.\n",
    "\n",
    "Interesting points:\n",
    "\n",
    "1. **Complexity**: Determining whether a story is real or fictional involves multiple aspects such as voice features, expression styles, and word choices. The audio needs to be analyzed from various angles to uncover patterns distinguishing real stories from deceptive ones, in order to improve the accuracy of the recognition.\n",
    "  \n",
    "2. **Challenge**: Training the model on a limited dataset provides only a small amount of information, which makes overfitting a concern. A model that is too complex cannot be used."
   ],
   "id": "d69ce6a61af8202b"
  },
  {
   "metadata": {},
   "cell_type": "markdown",
   "source": [
    "## 3 Methodology\n",
    "\n",
    "The methodology of this project includes the training tasks, validation tasks, and model performance evaluation criteria, which are described as follows:\n",
    "\n",
    "#### **Training Tasks**\n",
    "1. **Feature Extraction**:  \n",
    "   - **Audio Feature Extraction**: Use the `librosa` library to extract time-domain and frequency-domain features from the audio data, including:  \n",
    "     - **MFCC (Mel-Frequency Cepstral Coefficients)**: Used to capture the spectral features of the audio.  \n",
    "     - **ZCR (Zero-Crossing Rate)**: Used to reflect the frequency of changes in the audio signal.  \n",
    "     - **RMS (Root Mean Square Energy)**: Used to represent the intensity of the audio signal.  \n",
    "   - **Text Feature Extraction**: After converting the audio to text via speech recognition, use **TfidfVectorizer** to extract text features, limiting the feature dimension to 17. TF-IDF measures the importance of words in the text, highlighting key features.  \n",
    "\n",
    "2. **Model Training**:  \n",
    "   - Audio and text features are used to train different classifiers:  \n",
    "     - **Audio Features**: Train using K-Nearest Neighbors (kNN) and Gaussian Naive Bayes (GaussianNB) classifiers.  \n",
    "     - **Text Features**: Train using Logistic Regression and Random Forest classifiers.  \n",
    "   - During the training phase, the model learns the relationship between audio/text features and labels (True Story or Deceptive Story) to distinguish the categories of the input data.  \n",
    "\n",
    "#### **Validation Tasks**  \n",
    "- The dataset is split into a training set and a testing set (80% training, 20% testing) using **train_test_split**.  \n",
    "- During the validation phase, the trained models are applied to the test set, and the prediction results and accuracy for each model are output.  \n",
    "\n",
    "#### **Model Performance Evaluation**  \n",
    "The main evaluation criteria for model performance include:  \n",
    "1. **Accuracy**:  \n",
    "   - For each classifier, calculate its classification accuracy on the test set.  \n",
    "2. **Confusion Matrix**:  \n",
    "   - Use the confusion matrix to evaluate the classification performance of the model, showing the match between the true labels and the predicted labels, helping to analyze the model's misclassifications and accuracy.  \n",
    "3. **Weighted Voting Mechanism**:  \n",
    "   - In the final prediction phase, apply a weighted voting mechanism based on the accuracy of each model, with the weight proportional to the model's accuracy.  \n",
    "   - Each model predicts for the test samples, and the voting results are weighted and aggregated to produce the final classification result.  \n",
    "\n",
    "#### **Other Tasks**  \n",
    "1. **Model Saving and Loading**:  \n",
    "   - Use the `joblib` library to save the trained models and feature extractors, and reload them during the prediction phase to process new test data.  \n",
    "2. **Structured Output Results**:  \n",
    "   - The prediction results are saved to a file, with each test sample corresponding to a prediction result. A result of `true` indicates a True Story, and `false` indicates a Deceptive Story.  \n",
    "\n",
    "Through the above methodology, this project implements joint modeling of audio and text data, trains and validates using multiple classifiers, and ultimately uses a weighted voting mechanism to obtain the overall classification results."
   ],
   "id": "65f48db28736389c"
  },
  {
   "metadata": {},
   "cell_type": "markdown",
   "source": [
    "## 4 Implemented ML prediction pipelines\n",
    "\n",
    "In this project, we have designed multiple machine learning prediction pipelines that process audio and text data through various stages. The input, output, and data flow format for each stage are as follows:\n",
    "\n",
    "### Overview\n",
    "The machine learning prediction pipeline consists of the following key stages:\n",
    "\n",
    "- **Feature Extraction Stage (Transformation Stage)**\n",
    "- **Model Training Stage (Model Stage)**\n",
    "- **Ensemble Stage**\n",
    "\n",
    "Each stage has specific tasks, from data preprocessing and feature extraction to model training and ensemble voting, ultimately achieving the prediction of the authenticity of audio files. Below, we will describe the tasks and data processing flow for each stage in detail.\n",
    "\n",
    "### 4.1 Feature Extraction Stage (Transformation Stage)\n",
    "\n",
    "**Advantages**:\n",
    "1. **Diversity of Audio Feature Extraction**:\n",
    "   - **MFCC (Mel-Frequency Cepstral Coefficients)**: MFCC is one of the most widely used features in audio processing. It simulates the auditory perception of the human ear, particularly excelling in speech and music analysis. By extracting the spectral features of audio, MFCC effectively retains key information, especially in speech or music where frequency variations are important for recognition.\n",
    "   - **Zero-Crossing Rate (ZCR)**: ZCR reflects the high-frequency components or instantaneous changes of an audio signal. It is an effective feature in speech activity detection and noise reduction tasks, providing dynamic information about the signal and performing well in distinguishing between speech and non-speech segments.\n",
    "   - **RMS (Root Mean Square Energy)**: RMS energy reflects the strength of the audio signal, capturing the loudness variation. In noisy environments, RMS energy helps differentiate the intensity of sounds, assisting in distinguishing between different types of sounds (e.g., speech vs. noise).\n",
    "\n",
    "2. **Effectiveness of Text Feature Extraction**:\n",
    "   - **TF-IDF**: TF-IDF is one of the most commonly used feature extraction methods in text analysis. It filters out common words with minimal contribution to classification by calculating the importance of each word in the text. Unlike simple word frequency statistics, TF-IDF better identifies distinguishing words, making the features more concise and effective.\n",
    "   - **Simplicity of Text Representation**: TF-IDF features are controllable in terms of dimensions. By setting the `max_features` parameter, the feature space size can be managed, avoiding redundant features and improving computational efficiency.\n",
    "   - **Robustness for Small Datasets**: For smaller datasets, TF-IDF features effectively capture the core information in the text, bypassing computational bottlenecks that arise in large-scale data processing.\n",
    "\n",
    "With these two feature extraction methods, we can comprehensively capture the key information in both audio and text, enabling subsequent model training to learn meaningful patterns.\n",
    "\n",
    "### 4.2 Model Training Stage (Model Stage)\n",
    "\n",
    "**Advantages**:\n",
    "1. **Choice of Audio Feature Models**:\n",
    "   - **KNN (K-Nearest Neighbors)**: KNN is a simple instance-based classification algorithm. It predicts based on the similarity between a new sample and the training samples. KNN works effectively with audio features, especially when there is clear similarity between samples. It relies less on training data and adapts well to non-linear relationships.\n",
    "   - **Gaussian Naive Bayes (GaussianNB)**: GaussianNB assumes that each feature follows a Gaussian distribution, making it effective when features are correlated. Audio features often have continuity and statistical regularities, which GaussianNB can capture, providing good classification performance even with noisy data.\n",
    "\n",
    "2. **Choice of Text Feature Models**:\n",
    "   - **Logistic Regression**: Logistic regression is a commonly used linear classification model for text classification tasks that are linearly separable. It maps input text features into probability space and provides strong interpretability. For text data, logistic regression captures important information in a simplified manner, especially when the feature dimension is small, leading to high classification performance.\n",
    "   - **Random Forest**: Random Forest is an ensemble learning method based on decision trees, which improves classification accuracy by aggregating the results of multiple trees. It handles non-linear relationships between features and is robust to outliers and noise, making it stable in complex tasks.\n",
    "\n",
    "By choosing these models, we can utilize different classifiers for processing audio and text features, enabling efficient classification of input data and improving the overall model's accuracy and robustness.\n",
    "\n",
    "### 4.3 Ensemble Stage (Ensemble Stage)\n",
    "\n",
    "**Advantages**:\n",
    "1. **Advantages of Weighted Voting Mechanism**:\n",
    "   - **Improved Accuracy**: By aggregating the predictions of multiple models, the strengths of each model are combined, leading to improved overall prediction accuracy. The weight of each model's vote is related to its performance on the training set (accuracy), meaning that higher accuracy models have a greater influence on the final prediction.\n",
    "   - **Reduced Overfitting**: Ensemble methods balance the bias and variance of individual models, effectively reducing the risk of overfitting. Especially with small datasets, combining multiple models increases generalization ability, improving performance on unseen test data.\n",
    "   - **Enhanced Robustness**: Ensemble methods reduce a single model's sensitivity to noise, improving the model's adaptability to different data distributions. By voting across multiple models, errors caused by data bias or overfitting in a single model are minimized.\n",
    "\n",
    "Through the ensemble approach, the collaboration of multiple models not only improves classification accuracy but also enhances the stability and robustness of the model across different tasks. This is particularly advantageous when dealing with complex audio and text data."
   ],
   "id": "46ad3f204288b66e"
  },
  {
   "metadata": {},
   "cell_type": "markdown",
   "source": [
    "## 5 Dataset\n",
    "\n",
    "In this project, we will use a dataset based on the **MLEnd Deception Dataset** to build and evaluate the model. The construction, partitioning, and validation of the dataset will directly impact the model's performance and evaluation results, so it is essential to ensure the dataset's quality, independence, and representativeness.\n",
    "\n",
    "#### **Dataset Construction**\n",
    "\n",
    "We will use the audio dataset from the **CBU0521DD_stories** folder, which contains various stories, each labeled with its category, indicating whether it is a **True Story** or **Deceptive Story**, as well as the language category. We will extract the audio files and their corresponding labels, and then use a speech recognition tool (such as Whisper) to convert the audio into text data, which will be further processed to extract text features.\n",
    "\n",
    "#### **Training and Validation Set Partitioning**\n",
    "\n",
    "- **Dataset Partitioning**: We will split the dataset into a **training set** and a **validation set**, with a typical split of **80% for training** and **20% for testing**. This will be done using `train_test_split` to ensure randomness in the data. During this split, we will ensure that both categories (True Story and Deceptive Story) are reasonably represented in both the training and validation sets.\n",
    "  \n",
    "- **Independence and IID Samples**: When partitioning the data, we will ensure that there is no overlap between the training and testing sets, and that the data samples are **Independent and Identically Distributed (IID)**. This ensures the generalization ability of the model.\n",
    "\n",
    "#### **Dataset Limitations**\n",
    "\n",
    "- **Dataset Size**: Since the **CBU0521DD_stories** dataset is relatively small (only 100 samples), this may lead to **overfitting** during model training. To mitigate this, we will control the number of features used in the model.\n",
    "\n",
    "Through these methods, we ensure that the constructed dataset not only meets the requirements for model training but also helps us better understand and evaluate the model's performance."
   ],
   "id": "c9bb0c17e2cce9db"
  },
  {
   "metadata": {},
   "cell_type": "markdown",
   "source": "## 6 Experiments and results",
   "id": "146db9bbc6e5d1ff"
  },
  {
   "metadata": {},
   "cell_type": "markdown",
   "source": "### 6.1 Import related modules",
   "id": "7fbd2ff12b6b085e"
  },
  {
   "cell_type": "code",
   "id": "initial_id",
   "metadata": {
    "collapsed": true,
    "ExecuteTime": {
     "end_time": "2024-12-17T08:10:03.430260Z",
     "start_time": "2024-12-17T08:09:58.624716Z"
    }
   },
   "source": [
    "import os\n",
    "import numpy as np\n",
    "import pandas as pd\n",
    "import librosa\n",
    "import whisper\n",
    "from sklearn.feature_extraction.text import TfidfVectorizer\n",
    "from sklearn.linear_model import LogisticRegression\n",
    "from sklearn.ensemble import RandomForestClassifier\n",
    "from sklearn.neighbors import KNeighborsClassifier\n",
    "from sklearn.naive_bayes import GaussianNB\n",
    "from sklearn.preprocessing import StandardScaler\n",
    "from sklearn.model_selection import train_test_split\n",
    "from sklearn.metrics import accuracy_score, confusion_matrix, ConfusionMatrixDisplay\n",
    "import joblib\n",
    "import matplotlib.pyplot as plt"
   ],
   "outputs": [],
   "execution_count": 1
  },
  {
   "metadata": {},
   "cell_type": "markdown",
   "source": [
    "### 6.2 Audio to text conversion\n",
    "Call a library that converts speech to text."
   ],
   "id": "f4782aa09a42a39e"
  },
  {
   "metadata": {
    "ExecuteTime": {
     "end_time": "2024-12-17T08:10:10.333871Z",
     "start_time": "2024-12-17T08:10:10.325459Z"
    }
   },
   "cell_type": "code",
   "source": [
    "def audio_to_text(audio_path, output_text_path):\n",
    "    # Using Whisper base model and GPU acceleration\n",
    "    model = whisper.load_model(\"base\").to(\"cuda\")\n",
    "    audio = whisper.load_audio(audio_path)\n",
    "    audio = whisper.pad_or_trim(audio)\n",
    "    # Obtain the conversion result\n",
    "    result = model.transcribe(audio)\n",
    "    text = result['text']\n",
    "\n",
    "    # Save transcribed text\n",
    "    with open(output_text_path, \"w\") as f:\n",
    "        f.write(text)\n",
    "    return text"
   ],
   "id": "c2756bfe863b31a8",
   "outputs": [],
   "execution_count": 2
  },
  {
   "metadata": {},
   "cell_type": "markdown",
   "source": "### 6.3 Extract audio features",
   "id": "c8ba9ebde49ccf5"
  },
  {
   "metadata": {
    "ExecuteTime": {
     "end_time": "2024-12-17T08:10:13.535581Z",
     "start_time": "2024-12-17T08:10:13.530683Z"
    }
   },
   "cell_type": "code",
   "source": [
    "def extract_audio_features(file_path):\n",
    "    # Loading audio files using the librosa library\n",
    "    y, sr = librosa.load(file_path, sr=None)\n",
    "    # Calculate Mel frequency cepstral coefficients\n",
    "    mfcc = np.mean(librosa.feature.mfcc(y=y, sr=sr, n_mfcc=13), axis=1)\n",
    "    # Calculate the zero crossing rate\n",
    "    zcr = np.mean(librosa.feature.zero_crossing_rate(y))\n",
    "    # Calculate root mean square\n",
    "    rms = np.mean(librosa.feature.rms(y=y))\n",
    "    # Splicing to obtain audio features\n",
    "    return np.hstack([mfcc, zcr, rms])"
   ],
   "id": "fc589c23dac5042a",
   "outputs": [],
   "execution_count": 3
  },
  {
   "metadata": {},
   "cell_type": "markdown",
   "source": "### 6.4 Extract text features",
   "id": "e0b99a8878b3aa37"
  },
  {
   "metadata": {
    "ExecuteTime": {
     "end_time": "2024-12-17T08:10:14.510718Z",
     "start_time": "2024-12-17T08:10:14.508013Z"
    }
   },
   "cell_type": "code",
   "source": [
    "def extract_text_features(texts):\n",
    "    vectorizer = TfidfVectorizer(max_features=17)\n",
    "    return vectorizer.fit_transform(texts).toarray()"
   ],
   "id": "bda9729218d5ccdf",
   "outputs": [],
   "execution_count": 4
  },
  {
   "metadata": {},
   "cell_type": "markdown",
   "source": "### 6.5 Classification and voting mechanism (with added weights)",
   "id": "9d6e0572fbaf1888"
  },
  {
   "metadata": {
    "ExecuteTime": {
     "end_time": "2024-12-17T08:10:15.465942Z",
     "start_time": "2024-12-17T08:10:15.374514Z"
    }
   },
   "cell_type": "code",
   "source": [
    "import matplotlib.pyplot as plt\n",
    "from sklearn.metrics import accuracy_score, confusion_matrix, ConfusionMatrixDisplay, roc_curve, auc\n",
    "from sklearn.model_selection import train_test_split\n",
    "from sklearn.preprocessing import StandardScaler\n",
    "from sklearn.neighbors import KNeighborsClassifier\n",
    "from sklearn.naive_bayes import GaussianNB\n",
    "from sklearn.linear_model import LogisticRegression\n",
    "from sklearn.ensemble import RandomForestClassifier\n",
    "import joblib\n",
    "\n",
    "def train_and_evaluate(X_text, X_audio, y, model_save_path=None):\n",
    "    # Split the data into training and test sets (80% training, 20% testing)\n",
    "    X_text_train, X_text_test, X_audio_train, X_audio_test, y_train, y_test = train_test_split(\n",
    "        X_text, X_audio, y, test_size=0.2, random_state=32\n",
    "    )\n",
    "    print(f\"Number of text features: {X_text_train.shape[1]}\")\n",
    "    print(f\"Audio feature count: {X_audio_train.shape[1]}\")\n",
    "\n",
    "    # Audio classifiers\n",
    "    scaler = StandardScaler()\n",
    "    # Standardizing audio features (scaling them to have mean=0 and std=1)\n",
    "    X_audio_train = scaler.fit_transform(X_audio_train)\n",
    "    X_audio_test = scaler.transform(X_audio_test)\n",
    "\n",
    "    # Models for audio classification: kNN and Gaussian Naive Bayes\n",
    "    models_audio = {\n",
    "        \"kNN\": KNeighborsClassifier(n_neighbors=5),\n",
    "        \"GaussianNB\": GaussianNB(),\n",
    "    }\n",
    "\n",
    "    predictions_audio = {}\n",
    "    accuracy_audio = {}\n",
    "    fpr_audio, tpr_audio, roc_auc_audio = {}, {}, {}\n",
    "\n",
    "    for name, model in models_audio.items():\n",
    "        print(f\"Training {name} (Audio features)...\")\n",
    "        model.fit(X_audio_train, y_train)\n",
    "        pred = model.predict(X_audio_test)\n",
    "        predictions_audio[name] = pred\n",
    "        accuracy = accuracy_score(y_test, pred)\n",
    "        accuracy_audio[name] = accuracy\n",
    "        print(f\"{name} (Audio features) Accuracy: {accuracy:.2f}\")\n",
    "\n",
    "        # ROC curve data\n",
    "        fpr, tpr, _ = roc_curve(y_test, model.predict_proba(X_audio_test)[:, 1])\n",
    "        roc_auc = auc(fpr, tpr)\n",
    "        fpr_audio[name], tpr_audio[name], roc_auc_audio[name] = fpr, tpr, roc_auc\n",
    "\n",
    "    # Text classifiers using Logistic Regression and Random Forest\n",
    "    models_text = {\n",
    "        \"LogisticRegression\": LogisticRegression(max_iter=1000),\n",
    "        \"RandomForest\": RandomForestClassifier(n_estimators=15, random_state=32),\n",
    "    }\n",
    "\n",
    "    predictions_text = {}\n",
    "    accuracy_text = {}\n",
    "    fpr_text, tpr_text, roc_auc_text = {}, {}, {}\n",
    "\n",
    "    for name, model in models_text.items():\n",
    "        print(f\"Training {name} (Text features)...\")\n",
    "        model.fit(X_text_train, y_train)\n",
    "        pred = model.predict(X_text_test)\n",
    "        predictions_text[name] = pred\n",
    "        accuracy = accuracy_score(y_test, pred)\n",
    "        accuracy_text[name] = accuracy\n",
    "        print(f\"{name} (Text features) Accuracy: {accuracy:.2f}\")\n",
    "\n",
    "        # ROC curve data\n",
    "        fpr, tpr, _ = roc_curve(y_test, model.predict_proba(X_text_test)[:, 1])\n",
    "        roc_auc = auc(fpr, tpr)\n",
    "        fpr_text[name], tpr_text[name], roc_auc_text[name] = fpr, tpr, roc_auc\n",
    "\n",
    "    # Combine the accuracy of all models (text and audio)\n",
    "    accuracies = {**accuracy_text, **accuracy_audio}\n",
    "\n",
    "    # Voting mechanism for final prediction\n",
    "    final_predictions = []\n",
    "    for i in range(len(y_test)):\n",
    "        votes = []\n",
    "        for name, pred in {**predictions_text, **predictions_audio}.items():\n",
    "            weight = accuracies.get(name, 0)\n",
    "            votes.extend([pred[i]] * int(weight * 10))\n",
    "        # Extend the votes list by the weight factor\n",
    "        final_predictions.append(1 if votes.count(1) > votes.count(0) else 0)\n",
    "\n",
    "    # Output the final accuracy after voting\n",
    "    accuracy = accuracy_score(y_test, final_predictions)\n",
    "    print(f\"Final voting classification accuracy: {accuracy:.2f}\")\n",
    "\n",
    "    # Plot the confusion matrix to visualize the classification performance\n",
    "    cm = confusion_matrix(y_test, final_predictions)\n",
    "    disp = ConfusionMatrixDisplay(confusion_matrix=cm, display_labels=[\"Deceptive\", \"True\"])\n",
    "    disp.plot(cmap=\"Blues\")\n",
    "    plt.title(\"Confusion Matrix\")\n",
    "    plt.show()\n",
    "\n",
    "    # Plot ROC curves for both audio and text models\n",
    "    plt.figure(figsize=(10, 8))\n",
    "\n",
    "    # Plot ROC for audio models\n",
    "    for name in models_audio.keys():\n",
    "        plt.plot(fpr_audio[name], tpr_audio[name], lw=2, label=f'{name} (audio, AUC = {roc_auc_audio[name]:.2f})')\n",
    "\n",
    "    # Plot ROC for text models\n",
    "    for name in models_text.keys():\n",
    "        plt.plot(fpr_text[name], tpr_text[name], lw=2, label=f'{name} (text, AUC = {roc_auc_text[name]:.2f})')\n",
    "\n",
    "    plt.plot([0, 1], [0, 1], 'k--', lw=2)  # Diagonal line (no discrimination)\n",
    "    plt.xlabel('False Positive Rate')\n",
    "    plt.ylabel('True Positive Rate')\n",
    "    plt.title('ROC Curves for Audio and Text Models')\n",
    "    plt.legend(loc=\"lower right\")\n",
    "    plt.show()\n",
    "\n",
    "    # Save the model if specified\n",
    "    if model_save_path:\n",
    "        print(f\"Saving model to {model_save_path}\")\n",
    "        joblib.dump({\"text_models\": models_text, \"audio_models\": models_audio, \"scaler\": scaler}, model_save_path)\n"
   ],
   "id": "52273abef8007ff5",
   "outputs": [],
   "execution_count": 5
  },
  {
   "metadata": {},
   "cell_type": "markdown",
   "source": "### 6.6 Use the trained model to predict new data",
   "id": "fb2103915e90dea0"
  },
  {
   "metadata": {
    "ExecuteTime": {
     "end_time": "2024-12-17T08:10:16.660798Z",
     "start_time": "2024-12-17T08:10:16.653097Z"
    }
   },
   "cell_type": "code",
   "source": [
    "def predict_with_model(model_load_path, X_text, X_audio):\n",
    "    print(f\"Loading model from {model_load_path}\")\n",
    "    model_data = joblib.load(model_load_path)\n",
    "\n",
    "    models_text = model_data[\"text_models\"]\n",
    "    models_audio = model_data[\"audio_models\"]\n",
    "    scaler = model_data[\"scaler\"]\n",
    "\n",
    "    # Standardize audio features\n",
    "    X_audio = scaler.transform(X_audio)\n",
    "\n",
    "    predictions_text = {}\n",
    "    for name, model in models_text.items():\n",
    "        pred = model.predict(X_text)\n",
    "        predictions_text[name] = pred\n",
    "\n",
    "    predictions_audio = {}\n",
    "    for name, model in models_audio.items():\n",
    "        pred = model.predict(X_audio)\n",
    "        predictions_audio[name] = pred\n",
    "\n",
    "    # Voting mechanism for final prediction\n",
    "    final_predictions = []\n",
    "    for i in range(len(X_text)):\n",
    "        votes = []\n",
    "        for name, pred in {**predictions_text, **predictions_audio}.items():\n",
    "            votes.extend([pred[i]] * 10)  # Equal weight for all models here\n",
    "        final_predictions.append(1 if votes.count(1) > votes.count(0) else 0)\n",
    "\n",
    "    return final_predictions"
   ],
   "id": "d1dfcccf5bd446e0",
   "outputs": [],
   "execution_count": 6
  },
  {
   "metadata": {},
   "cell_type": "markdown",
   "source": [
    "### 6.7 Main program\n",
    "\n",
    "#### 6.7.1 Train"
   ],
   "id": "44997fb06b02ad9d"
  },
  {
   "metadata": {},
   "cell_type": "markdown",
   "source": "This section reads and outputs the data from the dataset. We can observe that it has read information from all 100 samples in the dataset.",
   "id": "13cf473f558cc250"
  },
  {
   "metadata": {
    "ExecuteTime": {
     "end_time": "2024-12-17T08:10:17.922059Z",
     "start_time": "2024-12-17T08:10:17.900421Z"
    }
   },
   "cell_type": "code",
   "source": [
    "# Run this block of code for training. You should put your dataset in \"CBU0521DD_stories\" file\n",
    "print(\"Start loading data\")\n",
    "csv_file = \"CBU0521DD_stories_attributes.csv\"\n",
    "folder_path = \"CBU0521DD_stories\"\n",
    "df = pd.read_csv(csv_file)\n",
    "\n",
    "df"
   ],
   "id": "bdd2616db86754c5",
   "outputs": [
    {
     "name": "stdout",
     "output_type": "stream",
     "text": [
      "Start loading data\n"
     ]
    },
    {
     "data": {
      "text/plain": [
       "     filename Language       Story_type\n",
       "0   00001.wav  Chinese       True Story\n",
       "1   00002.wav  Chinese       True Story\n",
       "2   00003.wav  Chinese       True Story\n",
       "3   00004.wav  Chinese       True Story\n",
       "4   00005.wav  Chinese       True Story\n",
       "..        ...      ...              ...\n",
       "95  00096.wav  English       True Story\n",
       "96  00097.wav  Chinese  Deceptive Story\n",
       "97  00098.wav  Chinese       True Story\n",
       "98  00099.wav  Chinese  Deceptive Story\n",
       "99  00100.wav  Chinese       True Story\n",
       "\n",
       "[100 rows x 3 columns]"
      ],
      "text/html": [
       "<div>\n",
       "<style scoped>\n",
       "    .dataframe tbody tr th:only-of-type {\n",
       "        vertical-align: middle;\n",
       "    }\n",
       "\n",
       "    .dataframe tbody tr th {\n",
       "        vertical-align: top;\n",
       "    }\n",
       "\n",
       "    .dataframe thead th {\n",
       "        text-align: right;\n",
       "    }\n",
       "</style>\n",
       "<table border=\"1\" class=\"dataframe\">\n",
       "  <thead>\n",
       "    <tr style=\"text-align: right;\">\n",
       "      <th></th>\n",
       "      <th>filename</th>\n",
       "      <th>Language</th>\n",
       "      <th>Story_type</th>\n",
       "    </tr>\n",
       "  </thead>\n",
       "  <tbody>\n",
       "    <tr>\n",
       "      <th>0</th>\n",
       "      <td>00001.wav</td>\n",
       "      <td>Chinese</td>\n",
       "      <td>True Story</td>\n",
       "    </tr>\n",
       "    <tr>\n",
       "      <th>1</th>\n",
       "      <td>00002.wav</td>\n",
       "      <td>Chinese</td>\n",
       "      <td>True Story</td>\n",
       "    </tr>\n",
       "    <tr>\n",
       "      <th>2</th>\n",
       "      <td>00003.wav</td>\n",
       "      <td>Chinese</td>\n",
       "      <td>True Story</td>\n",
       "    </tr>\n",
       "    <tr>\n",
       "      <th>3</th>\n",
       "      <td>00004.wav</td>\n",
       "      <td>Chinese</td>\n",
       "      <td>True Story</td>\n",
       "    </tr>\n",
       "    <tr>\n",
       "      <th>4</th>\n",
       "      <td>00005.wav</td>\n",
       "      <td>Chinese</td>\n",
       "      <td>True Story</td>\n",
       "    </tr>\n",
       "    <tr>\n",
       "      <th>...</th>\n",
       "      <td>...</td>\n",
       "      <td>...</td>\n",
       "      <td>...</td>\n",
       "    </tr>\n",
       "    <tr>\n",
       "      <th>95</th>\n",
       "      <td>00096.wav</td>\n",
       "      <td>English</td>\n",
       "      <td>True Story</td>\n",
       "    </tr>\n",
       "    <tr>\n",
       "      <th>96</th>\n",
       "      <td>00097.wav</td>\n",
       "      <td>Chinese</td>\n",
       "      <td>Deceptive Story</td>\n",
       "    </tr>\n",
       "    <tr>\n",
       "      <th>97</th>\n",
       "      <td>00098.wav</td>\n",
       "      <td>Chinese</td>\n",
       "      <td>True Story</td>\n",
       "    </tr>\n",
       "    <tr>\n",
       "      <th>98</th>\n",
       "      <td>00099.wav</td>\n",
       "      <td>Chinese</td>\n",
       "      <td>Deceptive Story</td>\n",
       "    </tr>\n",
       "    <tr>\n",
       "      <th>99</th>\n",
       "      <td>00100.wav</td>\n",
       "      <td>Chinese</td>\n",
       "      <td>True Story</td>\n",
       "    </tr>\n",
       "  </tbody>\n",
       "</table>\n",
       "<p>100 rows × 3 columns</p>\n",
       "</div>"
      ]
     },
     "execution_count": 7,
     "metadata": {},
     "output_type": "execute_result"
    }
   ],
   "execution_count": 7
  },
  {
   "metadata": {},
   "cell_type": "markdown",
   "source": "This section implements the audio-to-text functionality, with the output being the converted result for each data sample. Upon reviewing the results, we find that the overall conversion accuracy is acceptable. However, some of the data, after being converted, clearly deviates from the original meaning. This issue is likely caused by the limitations of the model used for speech recognition.",
   "id": "f7eaa88d64584c7b"
  },
  {
   "metadata": {
    "ExecuteTime": {
     "end_time": "2024-12-17T08:10:19.398795Z",
     "start_time": "2024-12-17T08:10:19.365613Z"
    }
   },
   "cell_type": "code",
   "source": [
    "audio_files = df[\"filename\"].values\n",
    "labels = df[\"Story_type\"].map({\"True Story\": 1, \"Deceptive Story\": 0}).values\n",
    "\n",
    "texts = []\n",
    "print(\"Start audio to text conversion\")\n",
    "for i, file in enumerate(audio_files):\n",
    "    file_path = os.path.join(folder_path, file)\n",
    "    output_text_path = os.path.join(folder_path, f\"{file[:-4]}.txt\")\n",
    "\n",
    "    # If the audio has been conversed to text and saved, it doesn't need to converse again\n",
    "    if os.path.exists(output_text_path):\n",
    "        with open(output_text_path, \"r\") as f:\n",
    "            text = f.read()\n",
    "    else:\n",
    "        text = audio_to_text(file_path, output_text_path)\n",
    "    texts.append(text)\n",
    "    \n",
    "texts"
   ],
   "id": "8513f26bd95af34f",
   "outputs": [
    {
     "name": "stdout",
     "output_type": "stream",
     "text": [
      "Start audio to text conversion\n"
     ]
    },
    {
     "data": {
      "text/plain": [
       "['2021年的冬天,我回了一趟老家探望外婆,那年她身體不好,住在離村子不遠的小鎮醫院裡。冬天的風特別刺骨,我淚著一大兒她喜歡吃的水果,走進了醫院。外婆見到我時,臉上露出了久違的笑容。她說,你怎麼知道我最想吃的就是橙子。我們在病房裡聊了很多,我問她',\n",
       " '2022年属價,我終於實現了去雲南旅行的夢想雲南的美景和獨特文化一直是我向往的而這次旅行讓我深深感受到它的魅力最讓我難忘的是在R海邊騎行的一天那種自由和寧靜的感覺至今難忘清晨,我從大力古城租了一輛自行車沿著R海的湖邊小道騎行R海的水面在清晨十分如鏡子般平靜這次旅行,我從大力古城租了一輛自行車沿著R海的湖邊小道騎行R海的水面在清晨十分如鏡子般平靜的感覺沿著R海的水面在清晨十分如鏡子般平靜的感覺',\n",
       " '这是我的故事。我的旅程,从驻名的故宫开始,它是世界上最大,保存最完整的皇宫建筑群。到我踏入那巨大的红色公文时,仿佛穿越到了历史中。今美的雕刻,经辟灰皇的污顶和广阔的停月,展现了明清皇朝的灰红气势。在游览太和电河预花圆时,我对这里建筑工艺,很丰富历史。',\n",
       " '在2020年,我報名參加了學校組織的美國嚴選活動我跟我的另外兩個同學以及許多老師同學們一起參加了這次美國旅行在1月15號文迪達的美國紐約之後的旅行都是乘坐大巴進行的我跟同學一起吃了一頓非常豐盛的早餐那是一家中式餐廳早餐有熟悉的包子、腳子、粥',\n",
       " '今天我想和大家分享我去年的闪西之旅,当我踏上这片古老的土地,心中充满了期待与尽为。我在闪西之旅的第一站是西安,这座千年古度仿佛叔叔这历史的苍苍。外部在古城墙上,我仿佛等听到历史的回应,每一块专时都成在这后重的历史。走进冰馬泳泊不管,那一列列徐徐如生的陶勇,让我感受。',\n",
       " '我曾经在一年内数次去过南京真的是一个很美丽的城市我最好的哥们在那边上学我们一起在小门外小世界大快多一万不一和路之间起过无数野营的城墙下我最好的哥们在那边上学小世界大快多一小世界大快多一小世界大快多一小世界大快多一小世界大快多一小世界大快多一小世界大快多一小世界大快多一小世界大快多一小世界大快多一小世界大快多一',\n",
       " '去年秋天在国星加级期间我去了航州开房了一个多年位建案的朋友这次旅程对我来说非常特别因为航州是我一直想去还没有去的地方而这位航州而这位朋友是我的高中同学我们自动上大学我就各自忙碌在没有见面那天我一早坐上去航州的高铁车中卖景色从房号的城市如今变成清沾利水一路上我充满期待多大航之后朋友在吃饭机',\n",
       " '在一个阳光明媚的周末,我决定去探望我小时候的好朋友小雨我们已经有好几年没有见面了,心中充满了期待和紧张还要就是可能也是对他的一种想念吧当我走进他家室,几乎感受到当年一块玩的气息我们这的人管这样从小玩到大的朋友就发现了这种感觉呢',\n",
       " '去年,我去了義大利的維尼斯旅行,這是我夢幻一球的旅行,終於有機會親自改善這座水上城市的魅力。我和幾個朋友一起踏成了這套旅程,剛到這座城市時,我們都會演前的景色深深震撼。維尼斯的街道並不是傳統意義上街道,28年的水道。歡迎環繞著國爾的建築,關於新入歷史的話,我們父祺帶著座場的公鋪啦這種傳統。',\n",
       " '在2022年的秋天,我去探望了一位很久沒見的朋友小君小君是我大學時期最好的朋友我媒體都過了很多美好時光但那時我們常常一起聊夜夫妻討論人生一笑我想著畢業後能一起傳達事件然後逼後我們走上了各自走上了不同的道路慢慢的失去了聯繫每當我想到她總有些遺憾但我們都知道生活總是把人帶得越來越遠',\n",
       " '小时候我一直生活在内陆城市那里群山缓绕和流碎多但从未见过真正的大海在我心中海是一个梦一个充满蓝色和浪花的世界去年属架我和朋友们计划了一次去海南的旅行终于有机会实现了这个梦当飞机降落在三亚机场时我迫不及待地想奔向海边第二天清晨我们早早起床去车前往三亚湾',\n",
       " '今年夏天有举行了世界杯我支持的球队是德国德国最近几年的表现德国队最近几年的表现一日不是很好所以外界普遍并不是看好他们但是我还是支持德国因为德国队有很多我喜欢的球员并且我从十年前就开始支持德国队了在今年小组赛中德国队第一场输掉了探brant',\n",
       " '幾年前我去了歐洲旅行特地選擇了法國巴黎巴黎是我一直向往的城市充滿浪漫的氣息和濃厚的藝術氛圍那是一個陽光明媚的下午我決定去探索市區享受這座城市的魅力然而由於沒有提前做好充足的路線規劃我在陌生的街道上迷路了手機也因為電量後進而無法使用更糟糕的是我一點也不懂法案',\n",
       " '在2017年,我回了趟老家在第一天,我去了一個老爺家裡做課在交談中都是老爺的毛米字寫的特别好我一聽聽到這個消息,我便產生了幾大的興趣老爺見我如此感興趣,便興之不活得領著我去他的書房裡面參觀我一進去',\n",
       " '在11场家的期间,我们一个宿舍,打算前往日本去旅行。集中完在的对立征师点的期待好奇。这也是我首次远行出国。护照作为我身份的象征,自然被我是为最重要的行李。小心翼翼的包挂着,当我们地大的东京成天机长后,我迅速就被这套城市的繁华与活力吸引了。',\n",
       " '当我去上海的时候我正在上大学就是前年吧前年我刚上大学的时候我一个人独自去的上海当时我就是心就来朝向一个人去上海是一个大城市然后我也从来没有去过我想亲自去感受一下我是做卧铺区的从北京当时我还在',\n",
       " \" Wuto-du, Gimondi-mondi, and John Uni had photos. In the corner of the hideout, there's a small load that looks original at first glance. This scary document and electronic device on the table were on sofa and a few float closing shortage combined, forming a single rest area. However, the bookshelf in the corner is actually a mobile security door. One more seat.\",\n",
       " ' last autumn I visited Hangzhou with my friends. It was my first time there and I was very excited. Hangzhou is famous for rest lake. So we went there on the first morning. The lake was very beautiful. With mountains in the distance and both floating on the water, the air was fresh.',\n",
       " \" In May this year, a visit to Fragrant Hill with a friend. It's very hot in summer in Beijing, but luckily, it was cloudy that day. The clothes took part of the heat of us, so we didn't feel very hot. Fragrant Hill was very beautiful. We chose a less steep pass in Stardigow or Monson Climbing.\",\n",
       " ' When I was in middle school, I joined a cultural exchange program that took me to the United States. It was my first time chowling abroad, and I was a boast-never and excited. Our trip lasted two weeks, and during that time we visited several cities, universities and famous landmarks. One of the most memorable experiences was visiting Harvard University.',\n",
       " \" I want to share a story about my daily life. I'm a college student and the way my days are simple. They are filled with my dream and the melody. My day begins with the alarm clock, the in my dorm room. I quickly get up fresh up and rush to the library. I love to the library. It's where my day of learning starts. Some add streams, so the windows and the players feels onto my desk as I...\",\n",
       " ' The most crowded place ever being is Beijing Underground, especially in Linden, especially during the morning and even in rush hours. It was more torturous than I basically traveled by underground every day. Every morning and evening I squeezed into it underground with a carload of people. The magic...',\n",
       " \" Winter of 2022. It was Chinese New Year, and our family follows the Hong Kong tradition to visit my grandparents' house, which is also my mom's place. The day was bright and sunny. My mom got my brother and I.\",\n",
       " ' This National holiday I want to Wuhan is the lake to join our stay over activity. Naturally, the plan revolved around the hagging. East Lake scenery is great. Perfect for relaxing walks and deep conversations. At least, at the beginning I thought the tree was designed to...',\n",
       " \" Back in 2020, I went to visit my cousin in New York. I had been so excited about this trip because I hadn't seen her in years, and I'd never been to New York before. I spent weeks planning everything from the places we'd visit to the restaurants we'd try, but from the moment I landed, things started to go wrong. First, my flight was delayed by almost 6 hours.\",\n",
       " \" But neither the young child, Sam Brick, meant dancing above our eyes, a trip to migrant parents' farmhouse in the countryside. The anticipation of this visit always filled me with excitement, as I knew it promised a brick from the pressure of city life. The moment we crossed the threshold, I was greeted by the freshly baked bread.\",\n",
       " \" In 2021, I visited my best friend Sarah. In 2021, I visited my best friend Sarah in San Francisco. We hadn't seen such each other in the early two years due to the pandemic. And finally, meeting her, being with all the incredible heartwarming. She greeted me as though airport was a huge mail. Anывайтесь with his bowl.\",\n",
       " \" In 2020, I went to Sydney to visit an old friend I hadn't seen in over 10 years. We had reconnected online during the pandemic and talked a lot about how much we missed hanging out in person. So as soon as it was safe to travel, I booked a trip. When I arrived, my friend met me at the airport with a huge hug.\",\n",
       " ' A few years ago, I went on a trip to the United States, specifically to New York City. It was my first time visiting the city, and I was incredibly excited to explore the famous landmarks. Experience the culture and see the city that I had only ever seen in the movies. One afternoon, I decided to take a walk around Central Park, the iconic park in the heart',\n",
       " \" In night of the day, I traveled to Chicago for a walk meeting. It was my first time visiting the United States and I felt both excited and the best, scared, scared. The flight was long, but I enjoyed looking out of the window and sinking about a venture ahead. When I landed at O'Hare Airport, I took a taxi.\",\n",
       " \" In 2018, I finally had the chance to visit Tokyo, Japan, a city ahead of the dream of exploring for years. It was a weak long trip and every day was filled with excitement and new experiences. From the moment I landed, I was amazed by how clean and orderly everything was. The three were bustling with people. Yet, there was a sense of calm and that made the field city feel so unique. On my first day, I visited Shibuya Crossing. The world's\",\n",
       " \" That's why I got a chance to visit Tokyo Japan during the cherry blossom season. I had always wanted to see the cherry blossom and it was even better than I imagined. I also told you to do a short break between Sanstas Drasinsan for the long since Tokyo as the last day of the train station.\",\n",
       " \" Last year, I went on a trip to the Singapore. I was excited to explore the city and the city's history. My first stop was a famous center in Chinatown, where I tried a variety of local dishes. I was excited to explore the city's history. I was excited to explore the city's history. I was excited to explore the city's history.\",\n",
       " ' Last year, I planned a trip to Paris to attend the opening of a renowned art gallery showcasing the work of my favorite artist. This was a once in a lifetime opportunity and I had been preparing for months. I had carefully saved up, purchased tickets well in advance, and planned every detail of the journey. The gallery was scheduled to open.',\n",
       " '我记得是2023年的数价我上大二然后我第一刚刚刚刚高口玩然后所以我打算去福州去找他玩一段时间因为我高低因为高口的员工所以说韩家过年都没有聚一聚因为还要负习他的考试客',\n",
       " \" my story. Well, I'm going to tell a story that happened recently just a work before. I went to Tenjin to which is my best friend which we have no child since nearly a turn years ago. Tenjin, you know, is a very good city and is very famous for the breakfast for us the culture of Kim. So I'm very happy when I lost my logic in Jin.\",\n",
       " ' and this is my story. A few years ago my sister and I went to Hong Kong and one of the highlights of our trip was visited in Lan Quay for a popular bar this trip this trip. It was our first time there and we were excited to experience the vibrant nightlife that we had the hard, hard so much about.',\n",
       " '我和这个同学在二人一七年的夏天自家去了唱卖山走的是公路随路途比较长延途的风景交错变化 幼数 铁路 草地是不是还能看到几条小河一路上有说有效 所以车程不算特别无聊底达集金是我们第一件事就是品尝当地的铁锅顿虽然铁锅顿冬天吃更有感觉 但去都去了夏天们的满头是喊也得尝一口这一天我们第一件事就是品尝当地的铁锅顿冬天吃更有效',\n",
       " '我记得在2023年的夏天我邀请我和我的家人一起来北京玩因为我在北京有点大学上学这次旅游和一万不同的是以前北京对我来说不算是一个故乡因为我每次得做高铁这次是',\n",
       " ' back in 2020. I want to visit my high school classmate Ji Jiang. He was in Zhou Jiang University so I want to Zhou Jiang Han Zhou to visit him. We planned to visit the Wethelite together to see the beautiful landscape.',\n",
       " ' I met my girlfriend when we sent up in the same group for the first time. She was pretty but silent. The other two talked about how to do our work later. We exchanged our rich had IDs. After all the works were done, I asked her to come out and hang around one day. I was excited.',\n",
       " '那是一个充满其他的日子我终于亲自去到了美国参加了一场NBA比赛不仅如此玩获得了一个与篮球巨星乐补党占武斯见面的机会这一切听起来像是一个梦但是当我站在洛杉磯的斯台普斯中心门前时我几乎不敢相信自己的眼睛我已经是占武斯的忠实损失从他刚进联盟的那个赛集开始我就一直关注了他的比赛坚证了他从克里夫兰到麦阿密再到回到克里夫兰再到去',\n",
       " ' I listened to a live house several weeks ago and for meeting my idol she and that was the first time for her to start a live house in Beijing so I changed the opportunity and bought my ticket instantly',\n",
       " '2016年我去了西藏,我在拉薩教洛,立即被那里的壮力自然警官所吸引。第一天我参观了布达拉公,供电非常熊伟,金闭灰皇,给我留下了深刻的印象。我还见到了许多深川传统服势的藏民,他们都非常友好。我在布达拉公听了导游的解说,了解了。',\n",
       " '去年我有机会去了杭州,拜访了我多年的朋友,这次旅行真的让我特别期待。因为杭州以西湖美景和丰富的文化主城,到了那里之后,我们首先去了特别著名的西湖景点,那里天气情冷,阳光砸在湖面上,湖水波光00,特别美丽。我们沿着湖边的步道慢慢走着,感受着轻轻的空气和优弦的氛围。湖边的流数随风咬意。',\n",
       " \" About when we go go, I took a trip to Ainer to see my best friend from high school. There's someone ahead and seen for a really long time. Ainer is such a wonderful place. The sun is shining brightly. The beaches are low and sunny, and the wind feels so good. Aphelian law is the big blue sea right away. My classmates and I spent a lot of time walking.\",\n",
       " '两个星期之前我和我的朋友一起去公园熬二我们在公园里散步路边有很多不同品种而输我们一边观察他们的页子形状又成于不同因为拍照在网上查一些我们不认识的数目的品种我们正走着看见了',\n",
       " \" One day, I suddenly received a message from a long lost classmates. Someone had been in the taxi for many years. In the last day, his dad had been working in another city for the past few years and had just returned to our hometown. He mentioned that he wanted to talk to me about something. It's been two years since we last...\",\n",
       " \" Last winter break, I made a special trip back to my hometown to visit my grandmother. As a child, going to her house was always the highlight of my ear. She would always make my favorite dish, filling the air with a familiar aroma of home and her endless love. Now, as she has a get older, her mobility isn't...\",\n",
       " '在今年的国性节我去国家道具观看了经济白色断粉丝白色断的眼粗针对之前的老居隔禁行了调整在创策和取掉上有所修改并且加入了更多现代化的东光和五美加入了更多群演群舞的环境',\n",
       " '那是初三的一個冬天,寒風思義地在窗外怒號防護整個世界都被動成了冰冷的模樣每當我踏出教室,刺鼓的寒藝就像無情的利任刺入肌膚,讓人無法呼吸即使外面是那樣的寒冷,陽光依然玩皮的透過窗戶,撒金教室,競竟地鋪滿了可桌光線溫柔而燦亂,防護思義為溫暖的朋友在寒冷冬日裡清清',\n",
       " ' It was an autumn afternoon. I returned to my childhood town to Sima Grand Lala, whom I had been in for years. The town was lively and the same yet it felt both familiar and night. The streets, the cooler cafe and the row of houses along the main road were all still over there, but quieter and slower than my memories.',\n",
       " ' A week ago I went on a hiking trip to the mountain with my friends. We just decided that last night we packed our bags with all the essentials like clothes and shoes and something we need to eat and drink. The hike was so challenging but rewarding. We pay a lot of effort to go to the beach.',\n",
       " '2021年的時候去了陳多這次旅行真的是特別難忘因為陳多是一座非常有火力又有光花地一名的城市然後它整體的風味分為是非常優勢我一下子就外上最讓我印象深刻的時候當地露就是特別的油好然後讓整個旅程都非常圓快原來他們看都預助人當然陳多的話有長照的這種造型',\n",
       " '在2018年的首加,我剛剛從初中畢業,於是我和母親一同踏上了相亡已久的英國之旅。在出發前,我通過唐敦莊園皇官維多利亞女王等音劇,對英國的歷史和文化有了初步的了解和濃厚的興趣。這些聚集讓我對英國的規則生活、王世歷史和維多利亞時代的徽皇有了直觀的感受。',\n",
       " \" Few years ago, I visited London with a group of friends. While exploring the city, we stumbled up in a narrow alley lined with all brick walls and I've recovered artists. At the very end of the alley was a small, almost-hidden bookstore. It's wooden sign, barely legible, from where. Read the silent page. Currently, got the better of me and I stabbed it.\",\n",
       " ' Looking back at my childhood travel, I came to Tibet in the early 12th, where I was in force with this old son, as well as the most magical experience. It was my first time traveling to such a unique space. And even now, almost a year later, the memory reminded me my mind. I remember all my dad came and reminded me to look slowly because of the altitude.',\n",
       " '去年冬天我有一次机会去办房我一直想见但是从来没有见过的祖父当时我就是完成了一场重要的考试然后心情非常非常愉悦所以我的爸决定就是带我回到他们的家乡就是在一个云南大山深浦这习惯挺方便心刻也库里面有一些京好了橋儿用土乾 л He芥树',\n",
       " '在初三的屬家我終於實現了自己的心願,去了日本旅行這四旅行讓我真實到了一個旗線帶用充滿傳統文化氣息的國家每一天都讓我感到興奮和滿足第一天我來到800的環程車這個地方總是在我的計畫心單中當我進入延遲的哈克里波特訓事整個人都激動得快跳起來另一種紅衛裝班的獲得我自身保持克真正',\n",
       " ' In 2022, I met him at Grigrand Father for the first time. He lived in a small, quiet village, surrounded by green hills and fields. Despite being over an IT-year-old, he was still remarkably sharp and full of energy. I had heard many stories about him from my family, but meeting him in person felt like a connection to a new chapter of my heritage. As we started his living room, drinking tea he had prepared.',\n",
       " ' I have to visit my childhood home for the last time before it was so. The house which has always been a place of comfort and memories. Now empty. As I walked through the room, it seems to be too equal with the laughter and the invents that had shaped my life. I stood in the living room.',\n",
       " '在去年10月的時候,我接到了公司的一個要求,讓我去行舟出差這次出差非常的順利,所以我的工作提前完成了讓我有了一個自由支配的下午所以我零視決定自己一個人去西湖一邊走走欣賞一下行舟,著名的經典,和秋季的風光在那裡,我碰到一位正在拍照的樓頁',\n",
       " '小学四年级的时候我和我的妈妈还有她的一个好朋友一起去排了泰山当时我很小但是因为我不知道泰山有多高以及路上会遇到什么样的困难所以我还是跟着去了但是如果放到森在的话我大概就不会选择去排山了因为',\n",
       " ' In the summer of early mid-June, I had the operational to visit San Francisco, a city known from its culture and the Sonny National Building. It was my first time in California and I was eager to explore everything the city had to offer. I arrived in San Francisco on a sunny morning and the first thing that struck me was an une Yes, Onlook, around Galen.',\n",
       " \" Last summer, I visited a small island with my friends and it turned out to be one of the most exciting trips I've ever had. The island was known for its crystal clear waters and vibrant coral reefs. But what exactly called our attention was the cliff jumping spots and locals recommended and always being a little freed of ice.\",\n",
       " '上个架期我去了塞班导旅游那确实是一个让人流联网反的地方为了这次塞班导之前我们提前做了不少功课在塞班导的活动非常丰富最新我的就是潜水和聪明探险第一天我们来到了军舰导我报名参加了一个浮浅之旅这次我来到了军舰导我来到了军舰导我来到了军舰导我来到了军舰导我来到了军舰导我来到了军舰导我来到了军舰导我来到了军舰导我来到了军舰导我来到了军舰导',\n",
       " '那是一个阳光明媚的周步我决定去白坊我的好朋友李明他住在城社另一段是一个我很少去的地方我们已经有好几个月没有见面了所以这次白坊对我来说意义重大我提前一天就规划好了路线却我不会做过任何重要的交通信息清晨我创伤了最喜欢的狼色称山戴上了一些自治的饼干作为礼物这都是李明最喜欢的请为自己宽爱',\n",
       " '上学期我们学校就是北京山大学举办了校长卑足学比赛这是一个怨对之间的比赛我作为北京涌电大学国际学院的怨对对长我带领球队一路国官展讲获得了冠军其中最让我印象深刻的一场比赛是绝散比赛刚刚开始我们就由于防柔失务我先被对面进了一个后来又因为对面有一个感觉他是传球但是他失务了一角就掉向球门',\n",
       " ' As I stepped into the old bookshop, the scent of age paper and leather beauty, enveloped me like a wormhug. I have visited this place countless times as a child, often dragging my mother alone, lost in the world of stories. Today I was returning alone, searching for a piece of my past.',\n",
       " \" Back in 2021, my family and I went to San Yang. As soon as I arrived at the hotel, I couldn't wait to rush to the seaside. Because our hotel was beside the beach, so I can quickly run to the seaside in my swimming tracks. Looking at the sparking seat.\",\n",
       " ' In 2017, I visited Paris. It was a city I always wanted to see. I arrived earlier in the morning and the airport. And when I went straight to my hometown near Péphétal, I was so excited that I decided to start exploring right away. The first place I went to was the airport.',\n",
       " ' It was a time back to 2014. It has been years since we came together with my family. We go to a reunion and ask the lakeside cabin. I remember the lake was surrounded by tavern.',\n",
       " ' As the autumn leaves began to turn golden and crisp, I found myself filled with a sudden urge to revisit my past. It has been years since I had graduated from elementary school, but the memories of my teacher and classmates still linered warmly in my heart. And then Mrs. Donald, my first great teacher, held...',\n",
       " \" Not a summer, I visited in my cousin who left near the beach. It was well of the best locations I have ever had. My cousin's horse is in a small town by the sea. Very great and peaceful. When I arrived, the first scene I noticed was the fresh sea and the sounds of the waves my cousin was waiting for me.\",\n",
       " '我回了趟老家在第一天我去了一个老爷家里做课在交团中都是老爷的毛米字写的特别好我一听听到这个消息我便宜产生了几大的兴趣老爷见我如此感兴趣便兴趣不过的领着我去他的书房里面参观我一进去便看到',\n",
       " ' to Iceland with a few fans. It was a trip. We had been planning since the beginning of the school year. We were also excited to finally experience the nature beauty of the UNIX country. We landed in... We landed earlier in the morning and even front plane. I thought that already seen an incredible landscape.',\n",
       " ' In May of this year, I went to a concert on my favorite idol. It was the first time I traveled alone to a foreign country just for a long awaited appointment. The decision was made in a hurry. I made up my mind only a month or so before the concert and I had to prepare all the things for going abroad by myself. It was a stressful and anxiety.',\n",
       " '去年秋天在国星加级期间我去了航州埃房了一个多年位的朋友这次旅程对我来说非常特别因为航州是我一学想去还没有去的地方而这位航州而这位朋友是我的高中同学我们自动上大学我就各自忙碌在没有见面那天我一早做上去航州的高级车中乱停车从房号的城市如今变成清沾地水一路上我充满期待到航州后我们以后损失',\n",
       " ' I traveled to Europe with my family this summer, living behind many hard-worn mysteries in the process. One night in Munich, my family and I had drinks at a royal court beer house. Because of the brewery reputation guests from all over the world, I enjoyed drinking at tables. It was the first time I drank a little',\n",
       " '去年我听说了四川一个隐秘的村庄这个地方提供很少有诱惑到房完全被全山怀扰着在号机医区时下我下的决心和朋友一起去太所意凡当我们抵拿村庄的时候已经是半晚十分了这个村庄做了一篇莫迷的处理申处房屋都是用木材和签证',\n",
       " \" in counting worms. It was a freezing winter day. The wind was blowing like a knife across my face. I had just experienced the major setback at work and my mood was extremely low. Working on the deserted street, I didn't know where I should go. When I passed by a coffee shop, the warm lights are similar to having an E. It's a place.\",\n",
       " '大二下半学期我去闪西西安拜访了我的高中同学,他就讀于长安大学,他学土木的,在中国,土木系统学是经常受条砍的,他也不例外,我经常条砍他的专业,他计划带我的工作习案,但后来我们的计划改变了,我们去了闪西省的另一个是保际室,因为我们考虑到了西安人太多,你们结家人人太多了,所以我们就去了其他事,并且他已经是逛逆了,',\n",
       " ' When I went to the school, I went on a trip to Innan. It was supposed to be a very happy holiday. But after revisiting Shangri-La and returning to Quming, my young brother suddenly developed an air infection. I really love the beautiful scenery of Innan, especially Shangri-La. We spent the first two days in there.',\n",
       " ' A story is an adventure at the old bookstore. On the leaves of sunny afternoon, I was wandering endlessly on the street. By accident, I turned into a rather out of the way alley. The alley was filled with an old smile and as if time had slowed down there. Suddenly, an old basketball came, an old bookstore came to me.',\n",
       " '去年属家我去了杭州,专门为了西湖的美景这是我第一次去杭州,之前只在书上和电影上看到过他的模样到达那天天未未吓着小语,整个西湖笼招在一层宝物中,请得更加神秘而适宜走在苏低上,研究弯夜的小路,偶尔能看到岸边的流速被违方轻轻浮动随便上到样起了正正连翼,访过在向我招手后来我做了一首首华小船,慢慢华向湖中心传乎C为年过六星',\n",
       " ' Last summer, I visited Boston for a short getaway. It was my first time in this city, and I was excited to explore history and culture. I started my trip by walking the Freedom Trail, a path that takes me to a few songs of most historic sites in the city. Along the way, I saw a famous pro-rev, a reverence house and old north turf.',\n",
       " '小时候我是一个极其内向的孩子在班级里我总是默默地坐在角落里看着同学们吸效完爽自己却不敢加入其中我害怕被拒绝 害怕出丑这种恐惧如影随行失落错过了许多美好的时光记得有一次班级里组织了一场演讲比赛看着同学们一个个自信满满走上奖台生情并冒的演讲我心中',\n",
       " \" I've never caught COVID-19, which seems pretty lucky into this world. Back in early 2020, when the pandemic first started spreading globally, I was still in high school. Suddenly, the news was all about the virus, and our school announced a shutdown, switching or causes to online learning. We all felt pretty uneasy and scared at the same time.\",\n",
       " '前几年我在驾骑里闲着无事,正好看到一些关于爬山的短视频。我想着反正闲着也是闲着,不如去爬爬山专联一下身体,正好能轻身体会一下古代文人莫克爬到山林时的能骨,会当令决定,一览中山小的感受,于是我收拾收拾的心理,直到山东太山,到了太山的所在地,山东太安后,我先去孔子庙,转了转。所以孔子了解,更剩一丑了。',\n",
       " \" Since I was a kid, I've always had deep interest in sketching and drawing. I went somewhere in high school, I signed up for the sketching trip organized by my school. The destination was a farmhouse, deep in the mountains of Guizhou Province. Our group included a professional instructor and...\",\n",
       " '前两天我和女朋友去了环境影城然后那个是一个非常好玩的地方我们在那儿玩玩所有的项目然后我们还吃到了很好吃的猪类牌我们特别喜欢哈利波特的展区我们去了我们去了用马飞行我们去了进去这里我们还还玩了',\n",
       " '去年,我有興趣德克薩斯州的奧斯廳是度過了幾天這次旅行的主要目的時去看望一些老朋友而奧斯廳本身也應其被預為世界現場音樂制度而吸引了我到達之後,我迫不及待地想要提升體驗這個城市獨特魅力在第一天的晚上,我跟朋友們出了著名的第六節這條街被稱為奧斯廳的音樂心臟地來走得街上,四週迷瞞的各種各樣的音樂聲幾乎沒差就...',\n",
       " '去年秋天,我去天津拜訪了一位高中同學,他現在在天津大學讀書,我們已經有好幾年沒見了,這次相聚讓我非常期待。他住在天津大學宿舍裡,下源內綠樹成陰,充滿了青春和活力的學術氛圍。到了天津之後,我的同學熱情地帶我參觀他的校園,天津大學既有現場化的教學樓,還有許多歷史業業的建築。下源內的湖泊和點營道路人感到非常舒適,我們參觀了他常去突入館,那裡環境安靜而充滿了。',\n",
       " ' You know one day me and my girlfriend went to British together and we Is a French fresh there and we feel very sad because the French red is very This is the taste taste and not very good and we eat some Branch there and the branch is much better than Chinese breakfast And we also eat Heidi',\n",
       " '幾天前我看網民一家養老人去看網民的高中位老師這位老人是我最盡種的人之一他不僅交問了我目裡支持還讓我明白了科學的意義與原生態度聽說他去修偶幹道的養老院我一直強勳快來訪他終於在一個東日的效果我帶著滿新的敬意踏上的這次旅程再不會提示首先,我幫妳想昨天我看出找個階段上台那我們跟朋友的見面是其他出也幫ác更面謝謝哈哈哈哈哈哈哈',\n",
       " ' One day my friends and I decided to go hiking on a life night trip. We left earlier and the weather was sunny. The wave of mountains were beautiful. Half we are resettled here, a faint cry. So I first thought it was just a wind but it got louder and sound like someone needed help.',\n",
       " '上周我前往一家骨尔院去看看我大学时期巨院服务时院士的小男孩好好那是一个安静冬日不厚阳光温柔的撒度是空气中夹达着淡淡很易当我找进那间熟悉的巨院子时好好正坐在秋仙上低头专注的白弄的人一个机幕网路做过两天的肤РЕ',\n",
       " '上个周末我和我的朋友们主播去参加一场突不旅行然后目标是一片彻零那天的天气比较阴晨比起的夏日小雨不面比较滑我们走起来都是挺飞进的但是我们并没有因此而就是想产生放弃的想法反而是性质不过的继续前进然而走着走着我们就发现',\n",
       " '一次,我和我的几个朋友去参加一个周末的艺术展览我们都挺喜欢艺术的,所以就提前计划好这次参观当天的展览的作品非常精彩,有许多不同风格的艺术品其中有一些挺独特的让我印象深刻就是我特别喜欢F5色彩丰富的抽象化',\n",
       " '2021年我去了一套農村拜訪我很久沒見的表哥表哥一家住在偏遠的鄉下那裡風景優美四周都是幾乎的山秋和廣闊的田野我已經很久沒去那裡了所以這次拜訪讓我感到季興奮又懷念到達孫子那天表哥拆著他的小頭垃圾來接我孫子的路不寬但顏骨兩邊的景色非常美麗尤其是那大片的油菜花田金黃色的花海一望無際保佛為大地撲上了一層溫暖的殘置的表哥一']"
      ]
     },
     "execution_count": 8,
     "metadata": {},
     "output_type": "execute_result"
    }
   ],
   "execution_count": 8
  },
  {
   "metadata": {},
   "cell_type": "markdown",
   "source": "This section extracts features from both the audio and text data and outputs the feature matrix.",
   "id": "7e42b9408da7366b"
  },
  {
   "metadata": {
    "ExecuteTime": {
     "end_time": "2024-12-17T08:11:19.446407Z",
     "start_time": "2024-12-17T08:10:21.212423Z"
    }
   },
   "cell_type": "code",
   "source": [
    "print(\"Extract Text Features\")\n",
    "X_text = extract_text_features(texts)\n",
    "\n",
    "print(\"Extract audio features\")\n",
    "X_audio = np.array([extract_audio_features(os.path.join(folder_path, file)) for file in audio_files])\n",
    "\n",
    "X_text,X_audio"
   ],
   "id": "747c89dc6577792f",
   "outputs": [
    {
     "name": "stdout",
     "output_type": "stream",
     "text": [
      "Extract Text Features\n",
      "Extract audio features\n"
     ]
    },
    {
     "data": {
      "text/plain": [
       "(array([[0., 0., 0., ..., 0., 0., 0.],\n",
       "        [0., 0., 0., ..., 0., 0., 0.],\n",
       "        [0., 0., 0., ..., 0., 0., 0.],\n",
       "        ...,\n",
       "        [0., 0., 0., ..., 0., 0., 0.],\n",
       "        [0., 0., 0., ..., 0., 0., 0.],\n",
       "        [0., 0., 0., ..., 0., 0., 0.]]),\n",
       " array([[-6.05132446e+02,  1.14067970e+02,  3.42377472e+01, ...,\n",
       "          2.37275743e+00,  5.76193989e-02,  4.47421800e-03],\n",
       "        [-3.16850677e+02,  1.36820221e+02, -7.29796553e+00, ...,\n",
       "         -4.75399303e+00,  5.73729022e-02,  5.08690625e-02],\n",
       "        [-3.26685089e+02,  1.59831558e+02, -2.66239243e+01, ...,\n",
       "          1.29651299e+01,  5.09669179e-02,  7.53609985e-02],\n",
       "        ...,\n",
       "        [-5.01262573e+02,  1.43559738e+02,  3.80389862e+01, ...,\n",
       "          3.04572868e+00,  2.84382179e-02,  1.83839984e-02],\n",
       "        [-5.01765289e+02,  1.44467087e+02,  4.11431961e+01, ...,\n",
       "          5.16555682e-02,  2.68982553e-02,  1.77746676e-02],\n",
       "        [-3.40805969e+02,  1.44819595e+02,  2.28754082e+01, ...,\n",
       "         -1.34323521e+01,  4.21720951e-02,  9.31503773e-02]]))"
      ]
     },
     "execution_count": 9,
     "metadata": {},
     "output_type": "execute_result"
    }
   ],
   "execution_count": 9
  },
  {
   "metadata": {},
   "cell_type": "markdown",
   "source": [
    "This section uses the extracted features for training and presents the following results:\n",
    "\n",
    "1. **Number of Features**\n",
    "2. **Training Accuracy for Each Model**\n",
    "3. **Training Accuracy for the Ensemble Model**\n",
    "4. **Confusion Matrix Plot for Training Results**\n",
    "5. **ROC Curve for Each Model**\n",
    "\n",
    "By reviewing these results, we observe that the ensemble method yields superior training results, with an accuracy of 85%, surpassing the accuracy of all individual models. This suggests that the ensemble approach effectively addresses the issue of inaccurate predictions. Additionally, the data features extracted for this method are minimal, making it suitable for small sample training in this scenario, thus avoiding overfitting."
   ],
   "id": "e0206d7b2020cba"
  },
  {
   "metadata": {
    "ExecuteTime": {
     "end_time": "2024-12-17T08:11:23.302464Z",
     "start_time": "2024-12-17T08:11:23.053395Z"
    }
   },
   "cell_type": "code",
   "source": [
    "print(\"Training and evaluating models\")\n",
    "model_save_path = \"trained_model.pkl\"\n",
    "train_and_evaluate(X_text, X_audio, labels, model_save_path)"
   ],
   "id": "b2bc541157cb8ce0",
   "outputs": [
    {
     "name": "stdout",
     "output_type": "stream",
     "text": [
      "Training and evaluating models\n",
      "Number of text features: 17\n",
      "Audio feature count: 15\n",
      "Training kNN (Audio features)...\n",
      "kNN (Audio features) Accuracy: 0.70\n",
      "Training GaussianNB (Audio features)...\n",
      "GaussianNB (Audio features) Accuracy: 0.80\n",
      "Training LogisticRegression (Text features)...\n",
      "LogisticRegression (Text features) Accuracy: 0.55\n",
      "Training RandomForest (Text features)...\n",
      "RandomForest (Text features) Accuracy: 0.40\n",
      "Final voting classification accuracy: 0.85\n"
     ]
    },
    {
     "data": {
      "text/plain": [
       "<Figure size 640x480 with 2 Axes>"
      ],
      "image/png": "[encoded data removed]"
     },
     "metadata": {},
     "output_type": "display_data"
    },
    {
     "data": {
      "text/plain": [
       "<Figure size 1000x800 with 1 Axes>"
      ],
      "image/png": "[encoded data removed]"
     },
     "metadata": {},
     "output_type": "display_data"
    },
    {
     "name": "stdout",
     "output_type": "stream",
     "text": [
      "Saving model to trained_model.pkl\n"
     ]
    }
   ],
   "execution_count": 10
  },
  {
   "metadata": {},
   "cell_type": "markdown",
   "source": "#### 6.7.2 Predict",
   "id": "5bee5b17917be461"
  },
  {
   "metadata": {},
   "cell_type": "markdown",
   "source": "This section loads the pre-trained models.",
   "id": "8b60f9ad64997306"
  },
  {
   "metadata": {
    "ExecuteTime": {
     "end_time": "2024-12-17T08:11:39.650368Z",
     "start_time": "2024-12-17T08:11:39.645667Z"
    }
   },
   "cell_type": "code",
   "source": [
    "# Run this block of code for predicting. You should put your prediction dataset in \"predict\" file, and make sure you have run the training block.\n",
    "print(\"Start loading model\")\n",
    "model_load_path = \"trained_model.pkl\"\n",
    "if os.path.exists(model_load_path) is False:\n",
    "    print(\"Model does not exist\")\n",
    "    exit(0)\n",
    "print(\"End loading model\")"
   ],
   "id": "bf2ab21c9cb0f7a1",
   "outputs": [
    {
     "name": "stdout",
     "output_type": "stream",
     "text": [
      "Start loading model\n",
      "End loading model\n"
     ]
    }
   ],
   "execution_count": 11
  },
  {
   "metadata": {},
   "cell_type": "markdown",
   "source": "This section loads the data that needs to be predicted and outputs the filenames of the read data. In this example, the prediction is performed using the files **00001.wav** and **00002.wav**.",
   "id": "b3714236d8b52d7"
  },
  {
   "metadata": {
    "ExecuteTime": {
     "end_time": "2024-12-16T12:30:03.677483Z",
     "start_time": "2024-12-16T12:30:03.669270Z"
    }
   },
   "cell_type": "code",
   "source": [
    "# Use 00001.wav and 00002.wav.\n",
    "print(\"Start loading data for prediction\")\n",
    "test_folder_path = \"predict\"\n",
    "audio_files = [f for f in os.listdir(test_folder_path) if f.endswith(\".wav\")]\n",
    "audio_files"
   ],
   "id": "fc8665c648759ab3",
   "outputs": [
    {
     "name": "stdout",
     "output_type": "stream",
     "text": [
      "Start loading data for prediction\n"
     ]
    },
    {
     "data": {
      "text/plain": [
       "['00001.wav', '00002.wav']"
      ]
     },
     "execution_count": 20,
     "metadata": {},
     "output_type": "execute_result"
    }
   ],
   "execution_count": 20
  },
  {
   "metadata": {},
   "cell_type": "markdown",
   "source": "This section converts the data that needs to be predicted from audio to text format and outputs the results. From the output, we can see that the conversion quality is acceptable.",
   "id": "9fb447d63728d56c"
  },
  {
   "metadata": {
    "ExecuteTime": {
     "end_time": "2024-12-16T12:30:13.624992Z",
     "start_time": "2024-12-16T12:30:08.821710Z"
    }
   },
   "cell_type": "code",
   "source": [
    "print(\"Start audio to text conversion\")\n",
    "texts = []\n",
    "file_name = []\n",
    "for file in audio_files:\n",
    "    file_path = os.path.join(test_folder_path, file)\n",
    "    file_name.append(file)\n",
    "    output_text_path = os.path.join(test_folder_path, f\"{file[:-4]}.txt\")\n",
    "\n",
    "    if os.path.exists(output_text_path):\n",
    "        with open(output_text_path, \"r\") as f:\n",
    "            text = f.read()\n",
    "    else:\n",
    "        text = audio_to_text(file_path, output_text_path)\n",
    "    texts.append(text)\n",
    "    \n",
    "texts"
   ],
   "id": "54d2176b4bd6106e",
   "outputs": [
    {
     "name": "stdout",
     "output_type": "stream",
     "text": [
      "Start audio to text conversion\n"
     ]
    },
    {
     "data": {
      "text/plain": [
       "['2021年的冬天,我回了一趟老家探望外婆,那年她身體不好,住在離村子不遠的小鎮醫院裡。冬天的風特別刺骨,我淚著一大兒她喜歡吃的水果,走進了醫院。外婆見到我時,臉上露出了久違的笑容。她說,你怎麼知道我最想吃的就是橙子。我們在病房裡聊了很多,我問她',\n",
       " '2022年属價,我終於實現了去雲南旅行的夢想雲南的美景和獨特文化一直是我向往的而這次旅行讓我深深感受到它的魅力最讓我難忘的是在R海邊騎行的一天那種自由和寧靜的感覺至今難忘清晨,我從大力古城租了一輛自行車沿著R海的湖邊小道騎行R海的水面在清晨十分如鏡子般平靜這次旅行,我從大力古城租了一輛自行車沿著R海的湖邊小道騎行R海的水面在清晨十分如鏡子般平靜的感覺沿著R海的水面在清晨十分如鏡子般平靜的感覺']"
      ]
     },
     "execution_count": 21,
     "metadata": {},
     "output_type": "execute_result"
    }
   ],
   "execution_count": 21
  },
  {
   "metadata": {},
   "cell_type": "markdown",
   "source": "This section extracts the features from both the audio and text data and outputs the feature matrix.",
   "id": "cd5b645ffd9b43a5"
  },
  {
   "metadata": {
    "ExecuteTime": {
     "end_time": "2024-12-16T12:30:20.484866Z",
     "start_time": "2024-12-16T12:30:19.574776Z"
    }
   },
   "cell_type": "code",
   "source": [
    "print(\"Extract Text Features\")\n",
    "X_text = extract_text_features(texts)\n",
    "\n",
    "print(\"Extract audio features\")\n",
    "X_audio = np.array([extract_audio_features(os.path.join(test_folder_path, file)) for file in audio_files])\n",
    "\n",
    "X_text,X_audio"
   ],
   "id": "e4b0ac674c7bde52",
   "outputs": [
    {
     "name": "stdout",
     "output_type": "stream",
     "text": [
      "Extract Text Features\n",
      "Extract audio features\n"
     ]
    },
    {
     "data": {
      "text/plain": [
       "(array([[0.2773501, 0.       , 0.2773501, 0.2773501, 0.2773501, 0.2773501,\n",
       "         0.2773501, 0.2773501, 0.2773501, 0.2773501, 0.       , 0.       ,\n",
       "         0.2773501, 0.       , 0.2773501, 0.2773501, 0.2773501],\n",
       "        [0.       , 0.5      , 0.       , 0.       , 0.       , 0.       ,\n",
       "         0.       , 0.       , 0.       , 0.       , 0.5      , 0.5      ,\n",
       "         0.       , 0.5      , 0.       , 0.       , 0.       ]]),\n",
       " array([[-6.05132446e+02,  1.14067970e+02,  3.42377472e+01,\n",
       "          2.65087910e+01,  1.41764011e+01, -8.32415760e-01,\n",
       "         -2.44422957e-01,  1.98408210e+00,  3.51478124e+00,\n",
       "          1.42658520e+00,  8.36694300e-01,  5.75649929e+00,\n",
       "          2.37275743e+00,  5.76193989e-02,  4.47421800e-03],\n",
       "        [-3.16850677e+02,  1.36820221e+02, -7.29796553e+00,\n",
       "          3.91325798e+01,  1.15830936e+01, -1.96725762e+00,\n",
       "         -9.38264561e+00,  1.46135693e+01, -4.95661879e+00,\n",
       "         -1.58024426e+01,  1.32620287e+00, -1.10350657e+01,\n",
       "         -4.75399303e+00,  5.73729022e-02,  5.08690625e-02]]))"
      ]
     },
     "execution_count": 22,
     "metadata": {},
     "output_type": "execute_result"
    }
   ],
   "execution_count": 22
  },
  {
   "metadata": {},
   "cell_type": "markdown",
   "source": "This section uses the pre-trained models to predict the data and outputs the prediction results, which are saved to a `.txt` file. The prediction results indicate that for file **00001.wav**, the content is classified as **True**, and for **00002.wav**, the content is classified as **False**. However, in reality, both files contain true stories, so the accuracy is 50%. Due to the small amount of prediction data, this result lacks statistical significance. To obtain more accurate results, please provide additional data and store it in the **predict** folder, located in the same directory as this file.",
   "id": "1a3cb4ede363a318"
  },
  {
   "metadata": {
    "ExecuteTime": {
     "end_time": "2024-12-16T12:30:27.161087Z",
     "start_time": "2024-12-16T12:30:27.141635Z"
    }
   },
   "cell_type": "code",
   "source": [
    "predictions = predict_with_model(model_load_path, X_text, X_audio)\n",
    "with open(\"result.txt\", \"w\") as f:\n",
    "    for i in range(len(predictions)):\n",
    "        print(f\"Data: {file_name[i]}, Prediction: {predictions[i]}\")\n",
    "        f.write(f\"Data: {file_name[i]}, Prediction: {predictions[i]}\\n\")\n",
    "print(\"The result has been saved in result.txt\")"
   ],
   "id": "4cb072f2418330a1",
   "outputs": [
    {
     "name": "stdout",
     "output_type": "stream",
     "text": [
      "Loading model from trained_model.pkl\n",
      "Data: 00001.wav, Prediction: 1\n",
      "Data: 00002.wav, Prediction: 0\n",
      "The result has been saved in result.txt\n"
     ]
    }
   ],
   "execution_count": 23
  },
  {
   "metadata": {},
   "cell_type": "markdown",
   "source": [
    "## 7 Conclusion\n",
    "\n",
    "In this project, we used the **MLEnd Deception Dataset** to build and evaluate a classification system that determines the authenticity of a story. By extracting both audio and text features and combining them with various machine learning models, we developed a robust system. The models were trained and evaluated separately on audio and text features, and the final predictions were fused using a weighted voting mechanism to improve accuracy and robustness.\n",
    "\n",
    "#### **Conclusion**\n",
    "1. **Advantages of Combining Audio and Text Features**:\n",
    "   - This project validated that combining audio and text features can effectively improve classification accuracy. Audio features such as **MFCC**, **Zero Crossing Rate (ZCR)**, and **RMS energy** reflect the time-frequency characteristics of the audio signal, helping the model capture key information from speech.\n",
    "   - Text features extracted using **TF-IDF** highlight critical information in the text, aiding the model in recognizing important words. This is particularly significant for determining the authenticity of a story.\n",
    "\n",
    "2. **Effectiveness of the Ensemble Method**:\n",
    "   - The use of a **weighted voting mechanism** to combine the predictions of different models proved effective in improving accuracy and reducing overfitting. By combining the predictions of both audio and text models, the final model showed better generalization and could better handle different types of samples.\n",
    "\n",
    "3. **Model Performance**:\n",
    "   - Through evaluating the model's **accuracy** and **confusion matrix** on the test set, and plotting the **ROC curve**, it is evident that the selected models achieved good classification performance on the small dataset. However, there is still room for improvement, especially when dealing with smaller datasets, where models can be influenced by noise and overfitting.\n",
    "\n",
    "#### **Suggestions for Improvement**\n",
    "1. **Dataset Expansion**:\n",
    "   - The dataset used in this project is small (only 100 samples), which may limit the model's training effectiveness. In the future, it would be beneficial to use a larger **audio dataset** and **text dataset** or apply **data augmentation** techniques to expand the training set, thereby enhancing the model’s generalization ability.\n",
    "\n",
    "2. **More Complex Models**:\n",
    "   - Exploring more advanced **deep learning models**, such as **Convolutional Neural Networks (CNNs)** or **Recurrent Neural Networks (RNNs)**, could potentially improve performance when handling audio and text data, especially on larger datasets.\n",
    "\n",
    "3. **Optimizing Feature Extraction**:\n",
    "   - The feature extraction methods for both audio and text could be further optimized. For instance, audio features could be enhanced by adding **emotional features**, and more advanced text processing techniques (such as **BERT**, **GPT**, or other pre-trained models) could be used to better capture the nuances of the text, improving feature representation and model accuracy.\n",
    "\n",
    "#### **Summary**\n",
    "In this project, we successfully built a classification system based on both audio and text data that effectively determines the authenticity of a story. While the model performs well on the current dataset, there is still much room for improvement in terms of increasing the dataset size, optimizing features, and enhancing model complexity. By continuously refining the feature extraction methods, model selection, and data processing workflows, we aim to further improve the model’s classification performance and its practical application value."
   ],
   "id": "ad3f206c7e759e41"
  },
  {
   "metadata": {},
   "cell_type": "markdown",
   "source": [
    "## 8 References\n",
    "[1] Manas Jain, Shruthi Narayan, Pratibha Balaji, etc. \"Speech Emotion Recognition using Support Vector Machine,\" *arXiv*, 2020, Available: https://arxiv.org/abs/2002.07590.\n",
    "\n",
    "[2] Alec Radford, Jong Wook Kim, Tao Xu, etc. \"Robust Speech Recognition via Large-Scale Weak Supervision,\" *arXiv*, 2022, Available: https://arxiv.org/abs/2212.04356.\n",
    "\n",
    "[3] Dong XB, Yu ZW,  Cao WM, etc. \"A survey on ensemble learning,\" *FRONTIERS OF COMPUTER SCIENCE*, 2020, Available: https://libcon.bupt.e.cn/https/77726476706e69737468656265737421e7f2439321236b597b068aa9d6562f34899051d9fc85a85327/wos/woscc/full-record/WOS:000501015800001"
   ],
   "id": "1b1837a3a67f243e"
  },
  {
   "metadata": {},
   "cell_type": "markdown",
   "source": "",
   "id": "1e735c2c8f232887"
  }
 ],
 "metadata": {
  "kernelspec": {
   "display_name": "Python 3",
   "language": "python",
   "name": "python3"
  },
  "language_info": {
   "codemirror_mode": {
    "name": "ipython",
    "version": 2
   },
   "file_extension": ".py",
   "mimetype": "text/x-python",
   "name": "python",
   "nbconvert_exporter": "python",
   "pygments_lexer": "ipython2",
   "version": "2.7.6"
  }
 },
 "nbformat": 4,
 "nbformat_minor": 5
}
